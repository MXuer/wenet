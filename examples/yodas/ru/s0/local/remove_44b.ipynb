{
 "cells": [
  {
   "cell_type": "code",
   "execution_count": 9,
   "metadata": {},
   "outputs": [],
   "source": [
    "import os\n",
    "from tqdm import tqdm\n",
    "from collections import defaultdict\n",
    "from pathlib import Path"
   ]
  },
  {
   "cell_type": "code",
   "execution_count": 3,
   "metadata": {},
   "outputs": [],
   "source": [
    "error_cons = open('../error.list').readlines()\n",
    "error_names = {os.path.basename(ele.strip())[:-4]: True for ele in error_cons}"
   ]
  },
  {
   "cell_type": "code",
   "execution_count": 12,
   "metadata": {},
   "outputs": [
    {
     "name": "stderr",
     "output_type": "stream",
     "text": [
      "100%|██████████| 3346328/3346328 [00:04<00:00, 726692.87it/s]\n"
     ]
    }
   ],
   "source": [
    "file = '../data/raw/text'\n",
    "cons = open(file).readlines()\n",
    "exp_dir = Path('../data/raw_clean')\n",
    "exp_dir.mkdir(exist_ok=True, parents=True)\n",
    "\n",
    "with open(exp_dir / os.path.basename(file), 'w') as f:\n",
    "    # clean_cons = []\n",
    "    for line in tqdm(cons):\n",
    "        name = line.split(' ', 1)[0]\n",
    "        if error_names.get(name, False):\n",
    "            continue\n",
    "        # clean_cons.append(line)\n",
    "        f.write(line)"
   ]
  },
  {
   "cell_type": "markdown",
   "metadata": {},
   "source": [
    "# CommonVoice17 dev"
   ]
  },
  {
   "cell_type": "code",
   "execution_count": 8,
   "metadata": {},
   "outputs": [
    {
     "name": "stderr",
     "output_type": "stream",
     "text": [
      "100%|██████████| 10203/10203 [00:00<00:00, 58046.41it/s]\n"
     ]
    }
   ],
   "source": [
    "import re\n",
    "from pathlib import Path\n",
    "from tqdm import tqdm\n",
    "\n",
    "audio_dir = Path(\"/share/datasets/CommonVoice/common_voice_17_0/audio/ru/dev/ru_dev_0_wav\")\n",
    "trans_file = \"/share/datasets/CommonVoice/common_voice_17_0/transcript/ru/dev.tsv\"\n",
    "\n",
    "audio_files = audio_dir.glob(\"*.wav\")\n",
    "\n",
    "name2wavfile = {}\n",
    "\n",
    "for audio_file in audio_files:\n",
    "    name = audio_file.stem\n",
    "    name2wavfile[name] = str(audio_file)\n",
    "\n",
    "kdir = Path('../data/cv17')\n",
    "kdir.mkdir(exist_ok=True, parents=True)\n",
    "\n",
    "with open(kdir / 'text', 'w') as ft, \\\n",
    "    open(kdir / 'wav.scp', 'w') as fw:\n",
    "    cons = open(trans_file).readlines()[1:]\n",
    "    for line in tqdm(cons):\n",
    "        _, name, _, text, *_ = line.strip().split('\\t')\n",
    "        text = re.sub('[.?,!—\\–\\\"\\'-;]','', text).strip()\n",
    "        ft.write(f'{name[:-4]} {text}\\n')\n",
    "        fw.write(f'{name[:-4]} {name2wavfile[name[:-4]]}\\n')"
   ]
  },
  {
   "cell_type": "markdown",
   "metadata": {},
   "source": [
    "# GOLOS Test"
   ]
  },
  {
   "cell_type": "code",
   "execution_count": 13,
   "metadata": {},
   "outputs": [
    {
     "name": "stdout",
     "output_type": "stream",
     "text": [
      "/share/rawdata/golos_opus/test_opus/crowd/crowd.jsonl\n",
      "/share/rawdata/golos_opus/test_opus/farfield/farfield.jsonl\n"
     ]
    }
   ],
   "source": [
    "import re\n",
    "import json\n",
    "from pathlib import Path\n",
    "from tqdm import tqdm\n",
    "data_dir = Path('/share/rawdata/golos_opus/test_opus')\n",
    "\n",
    "\n",
    "kdir = Path('../data/golos')\n",
    "kdir.mkdir(exist_ok=True, parents=True)\n",
    "\n",
    "\n",
    "with open(kdir / 'text', 'w') as ft, \\\n",
    "    open(kdir / 'wav.scp', 'w') as fw:\n",
    "    for folder in data_dir.glob(\"*\"):\n",
    "        json_file = folder / f'{folder.name}.jsonl'\n",
    "        print(json_file)\n",
    "        cons = open(json_file).readlines()\n",
    "        for line in cons:\n",
    "            line = json.loads(line)\n",
    "            name = line['id']\n",
    "            wav_file = folder / line['audio_filepath']\n",
    "            text = line['text']\n",
    "            ft.write(f'{name} {text}\\n')\n",
    "            fw.write(f'{name} {wav_file}\\n')"
   ]
  },
  {
   "cell_type": "markdown",
   "metadata": {},
   "source": [
    "# RULS\n"
   ]
  },
  {
   "cell_type": "code",
   "execution_count": 14,
   "metadata": {},
   "outputs": [],
   "source": [
    "json_file = Path('/share/rawdata/ruls/dev/manifest.json')\n",
    "\n",
    "kdir = Path('../data/ruls')\n",
    "kdir.mkdir(exist_ok=True, parents=True)\n",
    "\n",
    "with open(kdir / 'text', 'w') as ft, \\\n",
    "    open(kdir / 'wav.scp', 'w') as fw:\n",
    "    cons = open(json_file).readlines()\n",
    "    for line in cons:\n",
    "        line = json.loads(line)\n",
    "        wav_file = json_file.parent / line['audio_filepath']\n",
    "        name = wav_file.stem\n",
    "        text = line['text']\n",
    "        ft.write(f'{name} {text}\\n')\n",
    "        fw.write(f'{name} {wav_file}\\n')"
   ]
  },
  {
   "cell_type": "markdown",
   "metadata": {},
   "source": [
    "# Testset"
   ]
  },
  {
   "cell_type": "code",
   "execution_count": 15,
   "metadata": {},
   "outputs": [],
   "source": [
    "name2file = {\n",
    "    'cv17': Path('/data/duhu/ASR-Evaluation/exp/ru_ru__cv17-ru__zentao-16601/2024-11-18/raw/data.json'),\n",
    "    'dataocean': Path('/data/duhu/ASR-Evaluation/exp/ru_ru__DataOcean-ru__zentao-16601/2024-12-26/raw/data.json'),\n",
    "    'fleurs': Path('/data/duhu/ASR-Evaluation/exp/ru_ru__fleurs-ru__zentao-16601/2024-11-18/raw/data.json')\n",
    "}\n",
    "\n",
    "for name, file in name2file.items():\n",
    "    kdir = Path(f'../data/{name}')\n",
    "    kdir.mkdir(exist_ok=True, parents=True)\n",
    "\n",
    "    with open(kdir / 'text', 'w') as ft, \\\n",
    "        open(kdir / 'wav.scp', 'w') as fw:\n",
    "        cons = json.load(open(file))\n",
    "\n",
    "        for line in cons['data']:\n",
    "            wav_file = line['wav_file']\n",
    "            name = line['name']\n",
    "            text = line['ref'].strip()\n",
    "            ft.write(f'{name} {text}\\n')\n",
    "            fw.write(f'{name} {wav_file}\\n')\n",
    "    "
   ]
  },
  {
   "cell_type": "code",
   "execution_count": null,
   "metadata": {},
   "outputs": [],
   "source": []
  }
 ],
 "metadata": {
  "kernelspec": {
   "display_name": "wenet",
   "language": "python",
   "name": "python3"
  },
  "language_info": {
   "codemirror_mode": {
    "name": "ipython",
    "version": 3
   },
   "file_extension": ".py",
   "mimetype": "text/x-python",
   "name": "python",
   "nbconvert_exporter": "python",
   "pygments_lexer": "ipython3",
   "version": "3.10.16"
  }
 },
 "nbformat": 4,
 "nbformat_minor": 2
}
