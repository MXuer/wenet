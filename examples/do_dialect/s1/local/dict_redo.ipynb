{
 "cells": [
  {
   "cell_type": "code",
   "execution_count": 7,
   "metadata": {},
   "outputs": [],
   "source": [
    "dict_file = \"/data/duhu/new/wenet/examples/do_dialect/s1/data/dict/dict_10000.txt\"\n",
    "bpe_model_file = \"/data/duhu/new/wenet/examples/do_dialect/s1/data/dict/MDB_bpe_10000.model\"\n",
    "# bpe_model_file = \"/data/duhu/new/wenet/examples/do_dialect/s0/data/dict/MDB_bpe_8000.model\"\n",
    "bpe_model_file = \"/data/duhu/new/wenet/examples/do_dialect/s1/data/dict/MDB_unigram_10000.model\"\n",
    "\n",
    "# bpe_model_file = \"bpe.model\"\n",
    "\n",
    "\n",
    "bpe_models_dict = {\n",
    "    \"bpe_10000_da\": \"/data/duhu/new/wenet/examples/do_dialect/s1/data/dict/MDB_bpe_10000.model\",\n",
    "    \"bpe_8000_da\": \"/data/duhu/new/wenet/examples/do_dialect/s0/data/dict/MDB_bpe_8000.model\",\n",
    "    \"unigram_10000_da\": \"/data/duhu/new/wenet/examples/do_dialect/s1/data/dict/MDB_unigram_10000.model\",\n",
    "    \"bpe_owsm\": \"bpe.model\"\n",
    "}\n",
    "\n",
    "import sentencepiece as spm\n",
    "\n"
   ]
  },
  {
   "cell_type": "code",
   "execution_count": 31,
   "metadata": {},
   "outputs": [
    {
     "name": "stdout",
     "output_type": "stream",
     "text": [
      "        bpe_10000_da\t['▁你知道', '而且', '最', '关键', '你知道', '秦', '始', '皇', '死', '的时候', '儿', '哈', '▁你知道']\n",
      "         bpe_8000_da\t['▁你', '知', '道', '而', '且', '最', '关', '键', '你', '知', '道', '秦', '始', '皇', '死', '的', '时', '候', '儿', '哈', '▁你', '知', '道']\n",
      "    unigram_10000_da\t['▁', '你知道', '而且', '最', '关键', '你知道', '秦', '始', '皇', '死', '的时候', '儿', '哈', '▁', '你知道']\n",
      "            bpe_owsm\t['▁你知道', '而且', '最', '关键', '你知道', '秦', '始', '皇', '死', '的时候', '儿', '哈', '▁你知道']\n",
      "--- LINE ---\n",
      "\n",
      "        bpe_10000_da\t['▁', '谂', '住', '去', '贴', '诶', '帮', '我哋', '设', '定', '一个', '▁M', 'OR', 'N', 'ING', '▁C', 'ALL', '▁因为', '我哋', '早上', '仲', '要去', '你哋', '酒店', '嗰度', '去', '游', '水', '呃']\n",
      "         bpe_8000_da\t['▁谂', '住', '去', '贴', '诶', '帮', '我', '哋', '设', '定', '一', '个', '▁', 'M', 'O', 'R', 'N', 'I', 'N', 'G', '▁C', 'A', 'L', 'L', '▁因为', '我', '哋', '早', '上', '仲', '要', '去', '你', '哋', '酒', '店', '嗰', '度', '去', '游', '水', '呃']\n",
      "    unigram_10000_da\t['▁', '谂', '住', '去', '贴', '诶', '帮', '我哋', '设', '定', '一个', '▁M', 'OR', 'N', 'ING', '▁C', 'AL', 'L', '▁因为', '我哋', '早上', '仲要', '去', '你哋', '酒店', '嗰度', '去', '游', '水', '呃']\n",
      "            bpe_owsm\t['▁', '谂', '住', '去', '贴', '诶', '帮我', '哋', '设', '定', '一个', '▁M', 'OR', 'N', 'ING', '▁C', 'ALL', '▁', '因为我', '哋', '早上', '仲', '要去', '你', '哋', '酒店', '嗰', '度', '去', '游', '水', '呃']\n",
      "--- LINE ---\n",
      "\n",
      "        bpe_10000_da\t['▁知道']\n",
      "         bpe_8000_da\t['▁知道']\n",
      "    unigram_10000_da\t['▁', '知道']\n",
      "            bpe_owsm\t['▁', '知道']\n",
      "--- LINE ---\n",
      "\n",
      "        bpe_10000_da\t['▁啊', '知道']\n",
      "         bpe_8000_da\t['▁啊', '知', '道']\n",
      "    unigram_10000_da\t['▁', '啊', '知道']\n",
      "            bpe_owsm\t['▁', '啊', '知道']\n",
      "--- LINE ---\n",
      "\n",
      "        bpe_10000_da\t['▁', '<SHANDONG>', '▁这些', '职业', '岗', '位', '儿', '里', '出现', '游客', '观', '因素', '存在']\n",
      "         bpe_8000_da\t['▁', '<SHANDONG>', '▁这些', '职', '业', '岗', '位', '儿', '里', '出', '现', '游', '客', '观', '因', '素', '存', '在']\n",
      "    unigram_10000_da\t['▁', '<SHANDONG>', '▁', '这些', '职业', '岗位', '儿', '里', '出现', '游客', '观', '因素', '存在']\n",
      "            bpe_owsm\t['▁', '<', 'SH', 'AND', 'ON', 'G', '>', '▁', '这些', '职业', '岗', '位', '儿', '里', '出现', '游客', '观', '因素', '存在']\n",
      "--- LINE ---\n",
      "\n",
      "        bpe_10000_da\t['▁啊', '知道']\n",
      "         bpe_8000_da\t['▁啊', '知', '道']\n",
      "    unigram_10000_da\t['▁', '啊', '知道']\n",
      "            bpe_owsm\t['▁', '啊', '知道']\n",
      "--- LINE ---\n",
      "\n"
     ]
    }
   ],
   "source": [
    "texts = [\"你知道而且最关键你知道秦始皇死的时候儿哈 你知道\",\n",
    "         \"谂住去贴诶帮我哋设定一个MORNING CALL因为我哋早上仲要去你哋酒店嗰度去游水呃\",\n",
    "         \"知道\",\n",
    "         \"啊知道\",\n",
    "         \"<SHANDONG> 这些职业岗位儿里出现游客观因素存在\",\n",
    "         \"▁啊知道\",]\n",
    "\n",
    "for text in texts:\n",
    "    for name, bfile in bpe_models_dict.items():\n",
    "        name = \"%020s\"%name\n",
    "        bpe_model = spm.SentencePieceProcessor()\n",
    "        bpe_model.load(bfile)  \n",
    "        encode_pieces = bpe_model.encode_as_pieces(text)\n",
    "        print(f\"{name}\\t{encode_pieces}\")\n",
    "    print(\"--- LINE ---\\n\")"
   ]
  },
  {
   "cell_type": "code",
   "execution_count": 25,
   "metadata": {},
   "outputs": [
    {
     "data": {
      "text/plain": [
       "'这些职业岗位儿里出现游客观因素存在'"
      ]
     },
     "execution_count": 25,
     "metadata": {},
     "output_type": "execute_result"
    }
   ],
   "source": [
    "\"\".join(\"这些 职业 岗位 儿 里 出现 游客 观 因素 存在\".split())"
   ]
  },
  {
   "cell_type": "code",
   "execution_count": null,
   "metadata": {},
   "outputs": [],
   "source": []
  }
 ],
 "metadata": {
  "kernelspec": {
   "display_name": "w3",
   "language": "python",
   "name": "python3"
  },
  "language_info": {
   "codemirror_mode": {
    "name": "ipython",
    "version": 3
   },
   "file_extension": ".py",
   "mimetype": "text/x-python",
   "name": "python",
   "nbconvert_exporter": "python",
   "pygments_lexer": "ipython3",
   "version": "3.10.14"
  }
 },
 "nbformat": 4,
 "nbformat_minor": 2
}
