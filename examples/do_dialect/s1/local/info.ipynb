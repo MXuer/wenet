{
 "cells": [
  {
   "cell_type": "code",
   "execution_count": 10,
   "metadata": {},
   "outputs": [],
   "source": [
    "import json\n",
    "\n",
    "json_file = \"lang2projs.json\"\n",
    "data_dir = \"../data\"\n",
    "\n",
    "lang2projs = json.load(open(json_file))"
   ]
  },
  {
   "cell_type": "code",
   "execution_count": 5,
   "metadata": {},
   "outputs": [
    {
     "name": "stdout",
     "output_type": "stream",
     "text": [
      "defaultdict(<function <lambda> at 0x7fa1168a40d0>, {'ZangYu': [1399.8672759284743, 1.4921241666666711], 'LiaoNing': [502.3465069444457, 0.9817666666666668], 'SiChuan': [2278.402679534687, 2.8557641319444462], 'Yue_HK': [1189.6632101089772, 6.363157479843797], 'FuJian': [502.3064674999905, 0.41582972222222236], 'WeiYu': [862.2760848152802, 2.1154480555555675], 'MinNan': [3665.757013366707, 5.9097680555555545], 'HeNan': [282.27105388888356, 0.5284422222222221], 'WenZhou': [487.4741509201459, 0.41706416666666696], 'ShangHai': [880.1397611458236, 3.2174517500000004], 'HuNan': [496.2235260590355, 0.49911583333333315], 'NingXia': [151.88112305996208, 0.6156975623582769], 'ShanXi': [708.0123369444501, 0.9987913888888889], 'AnHui': [504.48931138888025, 0.46116111111111074], 'Yue_GZ': [3590.3138926498855, 3.6028909895833303], 'TianJin': [237.5485911111114, 0.47016805555555563], 'GuangDong': [493.6654097222231, 0.4418775], 'WuYu': [1526.7628232638865, 1.5958125], 'ShanDong': [541.7365311111139, 0.5707211111111115], 'GanSu': [557.4612091666709, 0.5061155555555561], 'HeBei': [505.64884638886497, 0.5114780555555553], 'JiangXi': [508.8464611111197, 0.536886388888889], 'YunNan': [534.8568344444525, 0.4655050000000002], 'HuBei': [331.635421944433, 0.5713352777777777], 'GuiZhou': [507.0476458333278, 0.4364727777777778], 'MANDARIN': [5529.72748939693, 4.540796936111111]})\n"
     ]
    }
   ],
   "source": [
    "import os\n",
    "from collections import defaultdict\n",
    "\n",
    "def read_utt2dur(file):\n",
    "    durs = [float(line.strip().split(\" \")[1]) for line in open(file)]\n",
    "    return sum(durs) / 3600\n",
    "\n",
    "lang2dur = defaultdict(lambda : [0, 0])\n",
    "proj2dur = defaultdict(lambda: [0, 0])\n",
    "for lang, projs in lang2projs.items():\n",
    "    for proj in projs:\n",
    "        train_file = os.path.join(data_dir, proj, 'train', 'utt2dur')\n",
    "        test_file = os.path.join(data_dir, proj, 'test', 'utt2dur')\n",
    "        if not os.path.exists(train_file):\n",
    "            continue\n",
    "        train_dur = read_utt2dur(train_file)\n",
    "        test_dur = read_utt2dur(test_file)\n",
    "        lang2dur[lang][0] += train_dur\n",
    "        lang2dur[lang][1] += test_dur\n",
    "        proj2dur[proj][0] += train_dur\n",
    "        proj2dur[proj][1] += test_dur\n",
    "    \n",
    "print(lang2dur)"
   ]
  },
  {
   "cell_type": "code",
   "execution_count": 12,
   "metadata": {},
   "outputs": [],
   "source": [
    "with open(\"lang2dur.txt\", 'w', encoding='utf-8') as f:\n",
    "    lang2dur_sorted = sorted(lang2dur.items(), key=lambda x:x[0])\n",
    "    for lang, (train_dur, test_dur) in lang2dur_sorted:\n",
    "        f.write(f\"{lang}\\t{train_dur}\\t{test_dur}\\n\")"
   ]
  },
  {
   "cell_type": "code",
   "execution_count": 18,
   "metadata": {},
   "outputs": [],
   "source": [
    "with open(\"proj2dur.txt\", 'w', encoding='utf-8') as f:\n",
    "    lang2projs_sorted = sorted(lang2projs.items(), key=lambda x:x[0])\n",
    "    for lang, projs in lang2projs_sorted:\n",
    "        for proj in projs:\n",
    "            train_dur, test_dur = proj2dur[proj]\n",
    "            f.write(f\"{lang}\\t{proj}\\t{train_dur}\\t{test_dur}\\n\")"
   ]
  },
  {
   "cell_type": "code",
   "execution_count": 16,
   "metadata": {},
   "outputs": [
    {
     "data": {
      "text/plain": [
       "[('AnHui', ['King-ASR-384-11-Anhui']),\n",
       " ('FuJian', ['King-ASR-384-1-Fujian']),\n",
       " ('GanSu', ['King-ASR-384-18-Gansu']),\n",
       " ('GuangDong', ['King-ASR-384-2']),\n",
       " ('GuiZhou', ['King-ASR-384-8-Guizhou']),\n",
       " ('HeBei', ['King-ASR-384-20-Hebei']),\n",
       " ('HeNan', ['King-ASR-384-13-Henan']),\n",
       " ('HuBei', ['King-ASR-384-17-Hubei']),\n",
       " ('HuNan', ['King-ASR-384-3-Hunan']),\n",
       " ('JiangXi', ['King-ASR-384-4-Jiangxi']),\n",
       " ('LiaoNing', ['King-ASR-384-14-Liaoning', 'King-ASR-384-21-Liaoning']),\n",
       " ('MANDARIN',\n",
       "  ['King-ASR-166',\n",
       "   'King-ASR-216',\n",
       "   'King-ASR-462',\n",
       "   'King-ASR-113',\n",
       "   'King-ASR-722']),\n",
       " ('MinNan',\n",
       "  ['King-ASR-853-1',\n",
       "   'King-ASR-854',\n",
       "   'King-ASR-854-1',\n",
       "   'King-ASR-420',\n",
       "   'King-ASR-427',\n",
       "   'King-ASR-853']),\n",
       " ('NingXia', ['King-ASR-384-23-Ningxia']),\n",
       " ('ShanDong', ['King-ASR-384-12-Shandong']),\n",
       " ('ShanXi', ['King-ASR-384-15-Shaanxi', 'King-ASR-384-16-Shanxi']),\n",
       " ('ShangHai', ['King-ASR-407', 'King-ASR-791']),\n",
       " ('SiChuan', ['King-ASR-406', 'King-ASR-881', 'King-ASR-882', 'King-ASR-883']),\n",
       " ('TianJin', ['King-ASR-384-10-Tianjin']),\n",
       " ('WeiYu', ['King-ASR-345', 'King-ASR-424', 'King-ASR-421']),\n",
       " ('WenZhou', ['King-ASR-384-19-Wenzhou']),\n",
       " ('WuYu', ['King-ASR-384-22-Wu', 'King-ASR-384-6-WU', 'King-ASR-384-9-Wu']),\n",
       " ('Yue_GZ',\n",
       "  ['King-ASR-423',\n",
       "   'King-ASR-241',\n",
       "   'King-ASR-879',\n",
       "   'King-ASR-880',\n",
       "   'King-ASR-669',\n",
       "   'King-ASR-668']),\n",
       " ('Yue_HK',\n",
       "  ['King-ASR-399',\n",
       "   'King-ASR-086',\n",
       "   'King-ASR-083',\n",
       "   'King-ASR-443',\n",
       "   'King-ASR-446',\n",
       "   'King-ASR-070',\n",
       "   'King-ASR-758',\n",
       "   'King-ASR-449']),\n",
       " ('YunNan', ['King-ASR-384-7-Yunnan']),\n",
       " ('ZangYu', ['King-ASR-426', 'King-ASR-742', 'King-ASR-422'])]"
      ]
     },
     "execution_count": 16,
     "metadata": {},
     "output_type": "execute_result"
    }
   ],
   "source": [
    "lang2projs_sorted"
   ]
  },
  {
   "cell_type": "code",
   "execution_count": null,
   "metadata": {},
   "outputs": [],
   "source": []
  }
 ],
 "metadata": {
  "kernelspec": {
   "display_name": "w3",
   "language": "python",
   "name": "python3"
  },
  "language_info": {
   "codemirror_mode": {
    "name": "ipython",
    "version": 3
   },
   "file_extension": ".py",
   "mimetype": "text/x-python",
   "name": "python",
   "nbconvert_exporter": "python",
   "pygments_lexer": "ipython3",
   "version": "3.10.14"
  }
 },
 "nbformat": 4,
 "nbformat_minor": 2
}
